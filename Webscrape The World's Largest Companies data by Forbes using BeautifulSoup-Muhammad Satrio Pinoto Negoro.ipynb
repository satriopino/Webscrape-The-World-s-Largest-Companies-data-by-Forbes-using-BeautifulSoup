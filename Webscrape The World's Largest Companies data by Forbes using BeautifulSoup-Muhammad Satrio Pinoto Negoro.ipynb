{
 "cells": [
  {
   "cell_type": "markdown",
   "id": "cae2cee8",
   "metadata": {},
   "source": [
    "### Muhammad Satrio Pinoto Negoro\n",
    "\n",
    "**Linkedin:** https://www.linkedin.com/in/satriopino/"
   ]
  },
  {
   "cell_type": "markdown",
   "id": "218cff5a",
   "metadata": {},
   "source": [
    "# Webscrapping The World's Largest Companies by Forbes.com (2023) using BeautifulSoup\n",
    "\n",
    "Web scraping, also known as web harvesting or web data extraction, is the process of automatically extracting data from websites. It involves fetching a web page and extracting data from it. The data can be parsed, searched, reformatted, and copied into a spreadsheet or loaded into a database. Web scraping can be done manually, but in most cases, automated tools are preferred as they can be less costly and work at a faster rate. Web scraping is used for various purposes, including lead  generation, price monitoring, market research, and content aggregation. However, some websites use methods to prevent web scraping, such as detecting and disallowing bots from crawling their pages. In response, there are web scraping systems that rely on using techniques in DOM parsing, computer vision, and natural language processing to simulate human browsing to enable gathering web page content for offline parsing.\n",
    "\n",
    "\n",
    "## Dependencies\n",
    "\n",
    "Actually to follow this module you only need to install beautifulsoup4 with `pip install beautifulsoup4` and you are good to go. But here some libraries that needed to be installed first that I use at bis module : \n",
    "\n",
    "- beautifulSoup4\n",
    "- pandas\n",
    "\n",
    "## Background\n",
    "\n",
    "At this project I try to scrap Company Name, Country, Sales, Profit, and Assets from The World's Largest Companies by Forbes.com (2023) data. Forbes, founded in 1917, is a renowned American business magazine and online platform. Known for its influential annual lists like the Forbes 400 and Forbes Global 2000, Forbes provides comprehensive coverage of business, technology, and lifestyle. Undergoing a digital transformation, it engages a global audience through insightful articles and expert contributors. The Forbes brand extends beyond media, including exclusive communities like Forbes Councils and impactful events. With a legacy of family ownership, Forbes remains a trusted source of authoritative business journalism, shaping conversations in the ever-evolving landscape of finance and entrepreneurship.\n",
    "\n",
    "A lot of you might ask why I need to scrap this data from the Forbes sites. The data cannot be downloaded and I want to make a report and gain some insight from that data and maybe can be useful for others. To do that I need to have the data, and scrapping is a good way to collect the data I don't have from the public.\n",
    "\n",
    "I will scrap 5 points from this sites. That is Company Name, Country, Sales, Profit, and Assets. \n",
    "\n",
    "## What is BeautifulSoup\n",
    "\n",
    "Beautiful Soup is a Python library for pulling data out of HTML and XML files. Beautiful Soup 3 only works on Python 2.x, but Beautiful Soup 4 also works on Python 3.x. Beautiful Soup 4 is faster, has more features, and works with third-party parsers\n",
    "like lxml and html5lib.\n",
    "\n",
    "Since beautifulsoup used to pull the data out of a HTML, so first we need to pull out the html first. How we do it? We will use default library `request`. \n",
    "\n",
    "So all this code is doing is sending a GET request to spesific address we give. This is the same type of request your browser sent to view this page, but the only difference is that Requests can't actually render the HTML, so instead you will just get the raw HTML and the other response information.\n",
    "\n",
    "I'm using the .get() function here, but Requests allows you to use other functions like .post() and .put() to send those requests as well. At this case we will going to the Global 2000 ranking the world’s largest companies by Forbes.com page, you can click [here](https://www.forbes.com/lists/global2000/?sh=710d4f0c5ac0) to follow what exactly that link goes to. "
   ]
  },
  {
   "cell_type": "code",
   "execution_count": 1,
   "id": "cac981e0",
   "metadata": {},
   "outputs": [],
   "source": [
    "import requests\n",
    "from bs4 import BeautifulSoup"
   ]
  },
  {
   "cell_type": "code",
   "execution_count": 2,
   "id": "354df97c",
   "metadata": {},
   "outputs": [],
   "source": [
    "headers = {\n",
    "    'User-Agent':'Mozilla/5.0 (Windows NT 10.0; Win64; x64) AppleWebKit/537.36 (KHTML, like Gecko) Chrome/119.0.0.0 Safari/537.36'\n",
    "}"
   ]
  },
  {
   "cell_type": "code",
   "execution_count": 3,
   "id": "fdb7960d",
   "metadata": {},
   "outputs": [],
   "source": [
    "url = 'https://www.forbes.com/lists/global2000/?sh=710d4f0c5ac0'\n",
    "response = requests.get(url, headers=headers)"
   ]
  },
  {
   "cell_type": "code",
   "execution_count": 4,
   "id": "d565d7c7",
   "metadata": {},
   "outputs": [
    {
     "data": {
      "text/plain": [
       "b'<!DOCTYPE html><html lang=\"en\"><head><link rel=\"preload\" as=\"font\" href=\"https://i.forbesimg.com/assets/fonts/merriweather/merriweather-bold-webfont.woff2\" type=\"font/woff2\" crossorigin><link rel=\"preload\" as=\"font\" href=\"https://i.forbesimg.com/assets/fonts/work-sans/worksans-regular-webfont.woff2\" type=\"font/woff2\" crossorigin><link rel=\"preload\" as=\"font\" href=\"https://i.forbesimg.com/assets/fonts/merriweather/merriweather-regular-webfont.woff2\" type=\"font/woff2\" crossorigin><link rel=\"preloa'"
      ]
     },
     "execution_count": 4,
     "metadata": {},
     "output_type": "execute_result"
    }
   ],
   "source": [
    "response.content[:500]"
   ]
  },
  {
   "cell_type": "code",
   "execution_count": 5,
   "id": "115e12b3",
   "metadata": {},
   "outputs": [
    {
     "name": "stdout",
     "output_type": "stream",
     "text": [
      "<class 'bs4.BeautifulSoup'>\n"
     ]
    }
   ],
   "source": [
    "soup = BeautifulSoup(response.content, 'html.parser')\n",
    "print(type(soup))"
   ]
  },
  {
   "cell_type": "code",
   "execution_count": 6,
   "id": "018c5940",
   "metadata": {},
   "outputs": [
    {
     "name": "stdout",
     "output_type": "stream",
     "text": [
      "<!DOCTYPE html>\n",
      "<html lang=\"en\">\n",
      " <head>\n",
      "  <link as=\"font\" crossorigin=\"\" href=\"https://i.forbesimg.com/assets/fonts/merriweather/merriweather-bold-webfont.woff2\" rel=\"preload\" type=\"font/woff2\"/>\n",
      "  <link as=\"font\" crossorigin=\"\" href=\"https://i.forbesimg.com/assets/fonts/work-sans/worksans-regular-webfont.woff2\" rel=\"preload\" type=\"font/woff2\"/>\n",
      "  <link as=\"font\" crossorigin=\"\" href=\"https://i.forbesimg.com/assets/fonts/merriweather/merriweather-regular-webfont.woff2\" rel=\"preload\" type=\"font/w\n"
     ]
    }
   ],
   "source": [
    "print(soup.prettify()[:500])"
   ]
  },
  {
   "cell_type": "code",
   "execution_count": 27,
   "id": "9d62acba",
   "metadata": {},
   "outputs": [
    {
     "data": {
      "text/plain": [
       "'<div class=\"table-row-group\">\\n <a aria-label=\"JPMorgan Chase\" canexpand=\"\" class=\"table-row active premiumProfile-jpmorgan-chase\" href=\"https://www.forbes.com/companies/jpmorgan-chase/?list=global2000\" rel=\"noopener noreferrer\" style=\"background-color:\" target=\"#_blank\" uri=\"jpmorgan-chase\">\\n  <div class=\"rank first table-cell rank\">\\n   1.\\n  </div>\\n  <div class=\"organizationName second table-cell name\">\\n   JPMorgan Chase\\n  </div>\\n  <div class=\"country table-cell country\">\\n   United States\\n  </div>\\n  <div class=\"revenue table-cell sales ($)\">\\n   $179.93 B\\n  </div>\\n  <div class=\"profits table-cell profit ($)\">\\n   $41.8 B\\n  </div>\\n  <div class=\"assets table-cell assets ($)\">\\n   $3,744.3 B\\n  </div>\\n  <div class=\"marketValue table-cell market value ($)\">\\n   $399.59 B\\n  </div>\\n </a>\\n <a aria-label=\"Saudi Arabian Oil Company (Saudi Aramco)\" canexpand=\"\" class=\"table-row active premiumProfile-saudi-arabian-oil-company-saudi-aramco\" href=\"https://www.forbes.com/companies/saudi-arabian-oil-company-saudi-aramco/?list=global2000\" rel=\"noopener noreferrer\" style=\"background-color:\" target=\"#_blank\" uri=\"saudi-arabian-oil-company-saudi-aramco\">\\n  <div class=\"rank first table-cell rank\">\\n   2.\\n  </div>\\n  <div class=\"organizationName second table-cell name\">\\n   Saudi Arabian Oil Company (Saudi Aramco)\\n  </div>\\n  <div class=\"country table-cell country\">\\n   Saudi Arabia\\n  </div>\\n  <div class=\"revenue table-cell sales ($)\">\\n   $589.47 B\\n  </div>\\n  <div class=\"profits table-cell profit ($)\">\\n   $156.36 B\\n  </div>\\n  <div class=\"assets table-cell assets ($)\">\\n   $660.99 B\\n  </div>\\n  <div class=\"marketValue table-cell market value ($)\">\\n   $2,055.22 B\\n  </div>\\n </a>\\n <a aria-label=\"ICBC\" canexpand=\"\" class=\"table-row active premiumProfile-icbc\" href=\"https://www.forbes.com/companies/icbc/?list=global2000\" rel=\"noopener noreferrer\" style=\"background-color:\" target=\"#_blank\" uri=\"icbc\">\\n  <div class=\"rank first table-cell rank\">\\n   3.\\n  </div>\\n  <div class=\"organizationName second table-cell name\">\\n   ICBC\\n  </div>\\n  <div class=\"country table-cell country\">\\n   China\\n  </div>\\n  <div class=\"revenue table-cell sales ($)\">\\n   $216.77 B\\n  </div>\\n  <div class=\"profits table-cell profit ($)\">\\n   $52.47 B\\n  </div>\\n  <div class=\"assets table-cell assets ($)\">\\n   $6,116.82 B\\n  </div>\\n  <div class=\"marketValue table-cell market value ($)\">\\n   $203.01 B\\n  </div>\\n </a>\\n <a aria-label=\"China Construction Bank\" canexpand=\"\" class=\"table-row active premiumProfile-china-construction-bank\" href=\"https://www.forbes.com/companies/china-construction-bank/?list=global2000\" rel=\"noopener noreferrer\" style=\"background-color:\" target=\"#_blank\" uri=\"china-construction-bank\">\\n  <div class=\"rank first table-cell rank\">\\n   4.\\n  </div>\\n  <div class=\"organizationName second table-cell name\">\\n   China Construction Bank\\n  </div>\\n  <div class=\"country table-cell country\">\\n   China\\n  </div>\\n  <div class=\"revenue table-cell sales ($)\">\\n   $203.08 B\\n  </div>\\n  <div class=\"profits table-cell profit ($)\">\\n   $48.25 B\\n  </div>\\n  <div class=\"assets table-cell assets ($)\">\\n   $4,977.48 B\\n  </div>\\n  <div class=\"marketValue table-cell market value ($)\">\\n   $172.99 B\\n  </div>\\n </a>\\n <a aria-label=\"Agricultural Bank of China\" canexpand=\"\" class=\"table-row active premiumProfile-agricultural-bank-of-china\" href=\"https://www.forbes.com/companies/agricultural-bank-of-china/?list=global2000\" rel=\"noopener noreferrer\" style=\"background-color:\" target=\"#_blank\" uri=\"agricultural-bank-of-china\">\\n  <div class=\"rank first table-cell rank\">\\n   5.\\n  </div>\\n  <div class=\"organizationName second table-cell name\">\\n   Agricultural Bank of China\\n  </div>\\n  <div class=\"country table-cell country\">\\n   China\\n  </div>\\n  <div class=\"revenue table-cell sales ($)\">\\n   $186.14 B\\n  </div>\\n  <div class=\"profits table-cell profit ($)\">\\n   $37.92 B\\n  </div>\\n  <div class=\"assets table-cell assets ($)\">\\n   $5,356.86 B\\n  </div>\\n  <div class=\"marketValue table-cell market value ($)\">\\n   $141.82 B\\n  </div>\\n </a>\\n <a aria-label=\"Bank of America\" canexpand=\"\" class=\"table-row active premiumProfile-bank-of-america\" href=\"https://www.forbes.com/companies/bank-of-america/?list=global2000\" rel=\"noopener noreferrer\" style=\"background-color:\" target=\"#_blank\" uri=\"bank-of-america\">\\n  <div class=\"rank first table-cell rank\">\\n   6.\\n  </div>\\n  <div class=\"organizationName second table-cell name\">\\n   Bank of America\\n  </div>\\n  <div class=\"country table-cell country\">\\n   United States\\n  </div>\\n  <div class=\"revenue table-cell sales ($)\">\\n   $133.84 B\\n  </div>\\n  <div class=\"profits table-cell profit ($)\">\\n   $28.62 B\\n  </div>\\n  <div class=\"assets table-cell assets ($)\">\\n   $3,194.66 B\\n  </div>\\n  <div class=\"marketValue table-cell market value ($)\">\\n   $220.82 B\\n  </div>\\n </a>\\n <a aria-label=\"Alphabet\" canexpand=\"\" class=\"table-row active premiumProfile-alphabet\" href=\"https://www.forbes.com/companies/alphabet/?list=global2000\" rel=\"noopener noreferrer\" style=\"background-color:\" target=\"#_blank\" uri=\"alphabet\">\\n  <div class=\"rank first table-cell rank\">\\n   7.\\n  </div>\\n  <div class=\"organizationName second table-cell name\">\\n   Alphabet\\n  </div>\\n  <div class=\"country table-cell country\">\\n   United States\\n  </div>\\n  <div class=\"revenue table-cell sales ($)\">\\n   $282.85 B\\n  </div>\\n  <div class=\"profits table-cell profit ($)\">\\n   $58.59 B\\n  </div>\\n  <div class=\"assets table-cell assets ($)\">\\n   $369.49 B\\n  </div>\\n  <div class=\"marketValue table-cell market value ($)\">\\n   $1,340.53 B\\n  </div>\\n </a>\\n <a aria-label=\"ExxonMobil\" canexpand=\"\" class=\"table-row active premiumProfile-exxon-mobil\" href=\"https://www.forbes.com/companies/exxon-mobil/?list=global2000\" rel=\"noopener noreferrer\" style=\"background-color:\" target=\"#_blank\" uri=\"exxon-mobil\">\\n  <div class=\"rank first table-cell rank\">\\n   8.\\n  </div>\\n  <div class=\"organizationName second table-cell name\">\\n   ExxonMobil\\n  </div>\\n  <div class=\"country table-cell country\">\\n   United States\\n  </div>\\n  <div class=\"revenue table-cell sales ($)\">\\n   $393.16 B\\n  </div>\\n  <div class=\"profits table-cell profit ($)\">\\n   $61.69 B\\n  </div>\\n  <div class=\"assets table-cell assets ($)\">\\n   $369.37 B\\n  </div>\\n  <div class=\"marketValue table-cell market value ($)\">\\n   $439.39 B\\n  </div>\\n </a>\\n <a aria-label=\"Microsoft\" canexpand=\"\" class=\"table-row active premiumProfile-microsoft\" href=\"https://www.forbes.com/companies/microsoft/?list=global2000\" rel=\"noopener noreferrer\" style=\"background-color:\" target=\"#_blank\" uri=\"microsoft\">\\n  <div class=\"rank first table-cell rank\">\\n   9.\\n  </div>\\n  <div class=\"organizationName second table-cell name\">\\n   Microsoft\\n  </div>\\n  <div class=\"country table-cell country\">\\n   United States\\n  </div>\\n  <div class=\"revenue table-cell sales ($)\">\\n   $207.59 B\\n  </div>\\n  <div class=\"profits table-cell profit ($)\">\\n   $69.02 B\\n  </div>\\n  <div class=\"assets table-cell assets ($)\">\\n   $380.09 B\\n  </div>\\n  <div class=\"marketValue table-cell market value ($)\">\\n   $2,309.84 B\\n  </div>\\n </a>\\n <a aria-label=\"Apple\" canexpand=\"\" class=\"table-row active premiumProfile-apple\" href=\"https://www.forbes.com/companies/apple/?list=global2000\" rel=\"noopener noreferrer\" style=\"background-color:\" target=\"#_blank\" uri=\"apple\">\\n  <div class=\"rank first table-cell rank\">\\n   10.\\n  </div>\\n  <div class=\"organizationName second table-cell name\">\\n   Apple\\n  </div>\\n  <div class=\"country table-cell country\">\\n   United States\\n  </div>\\n  <div class=\"revenue table-cell sales ($)\">\\n   $385.1 B\\n  </div>\\n  <div class=\"profits table-cell profit ($)\">\\n   $94.32 B\\n  </div>\\n  <div class=\"assets table-cell assets ($)\">\\n   $332.16 B\\n  </div>\\n  <div class=\"marketValue table-cell market value ($)\">\\n   $2,746.21 B\\n  </div>\\n </a>\\n <a aria-label=\"Shell\" canexpand=\"\" class=\"table-row active premiumProfile-shell\" href=\"https://www.forbes.com/companies/shell/?list=global2000\" rel=\"noopener noreferrer\" style=\"background-color:\" target=\"#_blank\" uri=\"shell\">\\n  <div class=\"rank first table-cell rank\">\\n   11.\\n  </div>\\n  <div class=\"organizationName second table-cell name\">\\n   Shell\\n  </div>\\n  <div class=\"country table-cell country\">\\n   United Kingdom\\n  </div>\\n  <div class=\"revenue table-cell sales ($)\">\\n   $365.89 B\\n  </div>\\n  <div class=\"profits table-cell profit ($)\">\\n   $43.51 B\\n  </div>\\n  <div class=\"assets table-cell assets ($)\">\\n   $429.15 B\\n  </div>\\n  <div class=\"marketValue table-cell market value ($)\">\\n   $205.45 B\\n  </div>\\n </a>\\n <a aria-label=\"Bank of China\" canexpand=\"\" class=\"table-row active premiumProfile-bank-of-china\" href=\"https://www.forbes.com/companies/bank-of-china/?list=global2000\" rel=\"noopener noreferrer\" style=\"background-color:\" target=\"#_blank\" uri=\"bank-of-china\">\\n  <div class=\"rank first table-cell rank\">\\n   12.\\n  </div>\\n  <div class=\"organizationName second table-cell name\">\\n   Bank of China\\n  </div>\\n  <div class=\"country table-cell country\">\\n   China\\n  </div>\\n  <div class=\"revenue table-cell sales ($)\">\\n   $158.23 B\\n  </div>\\n  <div class=\"profits table-cell profit ($)\">\\n   $33.23 B\\n  </div>\\n  <div class=\"assets table-cell assets ($)\">\\n   $4,421.76 B\\n  </div>\\n  <div class=\"marketValue table-cell market value ($)\">\\n   $122.67 B\\n  </div>\\n </a>\\n <a aria-label=\"Toyota Motor\" canexpand=\"\" class=\"table-row active premiumProfile-toyota-motor\" href=\"https://www.forbes.com/companies/toyota-motor/?list=global2000\" rel=\"noopener noreferrer\" style=\"background-color:\" target=\"#_blank\" uri=\"toyota-motor\">\\n  <div class=\"rank first table-cell rank\">\\n   13.\\n  </div>\\n  <div class=\"organizationName second table-cell name\">\\n   Toyota Motor\\n  </div>\\n  <div class=\"country table-cell country\">\\n   Japan\\n  </div>\\n  <div class=\"revenue table-cell sales ($)\">\\n   $270.49 B\\n  </div>\\n  <div class=\"profits table-cell profit ($)\">\\n   $18.5 B\\n  </div>\\n  <div class=\"assets table-cell assets ($)\">\\n   $542.5 B\\n  </div>\\n  <div class=\"marketValue table-cell market value ($)\">\\n   $188.2 B\\n  </div>\\n </a>\\n <a aria-label=\"Samsung Electronics\" canexpand=\"canExpand\" class=\"table-row active premiumProfile expandable premiumProfile-samsung-electronics\" rel=\"noopener noreferrer\" style=\"background-color:\" uri=\"samsung-electronics\">\\n  <div class=\"rank first table-cell rank\">\\n   14.\\n  </div>\\n  <div class=\"organizationName second table-cell name\">\\n   Samsung Electronics\\n  </div>\\n  <div class=\"country table-cell country\">\\n   South Korea\\n  </div>\\n  <div class=\"revenue table-cell sales ($)\">\\n   $220.07 B\\n  </div>\\n  <div class=\"profits table-cell profit ($)\">\\n   $34.49 B\\n  </div>\\n  <div class=\"assets table-cell assets ($)\">\\n   $348.81 B\\n  </div>\\n  <div class=\"marketValue table-cell canExpand market value ($)\">\\n   $334.31 B\\n  </div>\\n </a>\\n <a aria-label=\"UnitedHealth Group\" canexpand=\"\" class=\"table-row active premiumProfile-unitedhealth-group\" href=\"https://www.forbes.com/companies/unitedhealth-group/?list=global2000\" rel=\"noopener noreferrer\" style=\"background-color:\" target=\"#_blank\" uri=\"unitedhealth-group\">\\n  <div class=\"rank first table-cell rank\">\\n   15.\\n  </div>\\n  <div class=\"organizationName second table-cell name\">\\n   UnitedHealth Group\\n  </div>\\n  <div class=\"country table-cell country\">\\n   United States\\n  </div>\\n  <div class=\"revenue table-cell sales ($)\">\\n   $335.94 B\\n  </div>\\n  <div class=\"profits table-cell profit ($)\">\\n   $20.7 B\\n  </div>\\n  <div class=\"assets table-cell assets ($)\">\\n   $283.68 B\\n  </div>\\n  <div class=\"marketValue table-cell market value ($)\">\\n   $460.19 B\\n  </div>\\n </a>\\n <a aria-label=\"Ping An Insurance Group\" canexpand=\"\" class=\"table-row active premiumProfile-ping-an-insurance\" href=\"https://www.forbes.com/companies/ping-an-insurance/?list=global2000\" rel=\"noopener noreferrer\" style=\"background-color:\" target=\"#_blank\" uri=\"ping-an-insurance\">\\n  <div class=\"rank first table-cell rank\">\\n   16.\\n  </div>\\n  <div class=\"organizationName second table-cell name\">\\n   Ping An Insurance Group\\n  </div>\\n  <div class=\"country table-cell country\">\\n   China\\n  </div>\\n  <div class=\"revenue table-cell sales ($)\">\\n   $166.37 B\\n  </div>\\n  <div class=\"profits table-cell profit ($)\">\\n   $12.64 B\\n  </div>\\n  <div class=\"assets table-cell assets ($)\">\\n   $1,598.49 B\\n  </div>\\n  <div class=\"marketValue table-cell market value ($)\">\\n   $138.56 B\\n  </div>\\n </a>\\n <a aria-label=\"Wells Fargo\" canexpand=\"\" class=\"table-row active premiumProfile-wells-fargo\" href=\"https://www.forbes.com/companies/wells-fargo/?list=global2000\" rel=\"noopener noreferrer\" style=\"background-color:\" target=\"#_blank\" uri=\"wells-fargo\">\\n  <div class=\"rank first table-cell rank\">\\n   17.\\n  </div>\\n  <div class=\"organizationName second table-cell name\">\\n   Wells Fargo\\n  </div>\\n  <div class=\"country table-cell country\">\\n   United States\\n  </div>\\n  <div class=\"revenue table-cell sales ($)\">\\n   $108.93 B\\n  </div>\\n  <div class=\"profits table-cell profit ($)\">\\n   $14.5 B\\n  </div>\\n  <div class=\"assets table-cell assets ($)\">\\n   $1,886.4 B\\n  </div>\\n  <div class=\"marketValue table-cell market value ($)\">\\n   $142.36 B\\n  </div>\\n </a>\\n <a aria-label=\"Chevron\" canexpand=\"\" class=\"table-row active premiumProfile-chevron\" href=\"https://www.forbes.com/companies/chevron/?list=global2000\" rel=\"noopener noreferrer\" style=\"background-color:\" target=\"#_blank\" uri=\"chevron\">\\n  <div class=\"rank first table-cell rank\">\\n   18.\\n  </div>\\n  <div class=\"organizationName second table-cell name\">\\n   Chevron\\n  </div>\\n  <div class=\"country table-cell country\">\\n   United States\\n  </div>\\n  <div class=\"revenue table-cell sales ($)\">\\n   $232.12 B\\n  </div>\\n  <div class=\"profits table-cell profit ($)\">\\n   $35.78 B\\n  </div>\\n  <div class=\"assets table-cell assets ($)\">\\n   $255.89 B\\n  </div>\\n  <div class=\"marketValue table-cell market value ($)\">\\n   $303.54 B\\n  </div>\\n </a>\\n <a aria-label=\"PetroChina\" canexpand=\"\" class=\"table-row active premiumProfile-petrochina\" href=\"https://www.forbes.com/companies/petrochina/?list=global2000\" rel=\"noopener noreferrer\" style=\"background-color:\" target=\"#_blank\" uri=\"petrochina\">\\n  <div class=\"rank first table-cell rank\">\\n   18.\\n  </div>\\n  <div class=\"organizationName second table-cell name\">\\n   PetroChina\\n  </div>\\n  <div class=\"country table-cell country\">\\n   China\\n  </div>\\n  <div class=\"revenue table-cell sales ($)\">\\n   $457.4 B\\n  </div>\\n  <div class=\"profits table-cell profit ($)\">\\n   $22.18 B\\n  </div>\\n  <div class=\"assets table-cell assets ($)\">\\n   $384.58 B\\n  </div>\\n  <div class=\"marketValue table-cell market value ($)\">\\n   $122.91 B\\n  </div>\\n </a>\\n <a aria-label=\"HSBC Holdings\" canexpand=\"\" class=\"table-row active premiumProfile-hsbc-holdings\" href=\"https://www.forbes.com/companies/hsbc-holdings/?list=global2000\" rel=\"noopener noreferrer\" style=\"background-color:\" target=\"#_blank\" uri=\"hsbc-holdings\">\\n  <div class=\"rank first table-cell rank\">\\n   20.\\n  </div>\\n  <div class=\"organizationName second table-cell name\">\\n   HSBC Holdings\\n  </div>\\n  <div class=\"country table-cell country\">\\n   United Kingdom\\n  </div>\\n  <div class=\"revenue table-cell sales ($)\">\\n   $73.98 B\\n  </div>\\n  <div class=\"profits table-cell profit ($)\">\\n   $22.19 B\\n  </div>\\n  <div class=\"assets table-cell assets ($)\">\\n   $2,989.7 B\\n  </div>\\n  <div class=\"marketValue table-cell market value ($)\">\\n   $151.19 B\\n  </div>\\n </a>\\n <a aria-label=\"TotalEnergies\" canexpand=\"\" class=\"table-row active premiumProfile-totalenergies\" href=\"https://www.forbes.com/companies/totalenergies/?list=global2000\" rel=\"noopener noreferrer\" style=\"background-color:\" target=\"#_blank\" uri=\"totalenergies\">\\n  <div class=\"rank first table-cell rank\">\\n   21.\\n  </div>\\n  <div class=\"organizationName second table-cell name\">\\n   TotalEnergies\\n  </div>\\n  <div class=\"country table-cell country\">\\n   France\\n  </div>\\n  <div class=\"revenue table-cell sales ($)\">\\n   $257.59 B\\n  </div>\\n  <div class=\"profits table-cell profit ($)\">\\n   $21.12 B\\n  </div>\\n  <div class=\"assets table-cell assets ($)\">\\n   $293.03 B\\n  </div>\\n  <div class=\"marketValue table-cell market value ($)\">\\n   $151.64 B\\n  </div>\\n </a>\\n <a aria-label=\"Verizon Communications\" canexpand=\"\" class=\"table-row active premiumProfile-verizon-communications\" href=\"https://www.forbes.com/companies/verizon-communications/?list=global2000\" rel=\"noopener noreferrer\" style=\"background-color:\" target=\"#_blank\" uri=\"verizon-communications\">\\n  <div class=\"rank first table-cell rank\">\\n   21.\\n  </div>\\n  <div class=\"organizationName second table-cell name\">\\n   Verizon Communications\\n  </div>\\n  <div class=\"country table-cell country\">\\n   United States\\n  </div>\\n  <div class=\"revenue table-cell sales ($)\">\\n   $136.19 B\\n  </div>\\n  <div class=\"profits table-cell profit ($)\">\\n   $21.59 B\\n  </div>\\n  <div class=\"assets table-cell assets ($)\">\\n   $377.72 B\\n  </div>\\n  <div class=\"marketValue table-cell market value ($)\">\\n   $159.04 B\\n  </div>\\n </a>\\n <a aria-label=\"Walmart\" canexpand=\"\" class=\"table-row active premiumProfile-walmart\" href=\"https://www.forbes.com/companies/walmart/?list=global2000\" rel=\"noopener noreferrer\" style=\"background-color:\" target=\"#_blank\" uri=\"walmart\">\\n  <div class=\"rank first table-cell rank\">\\n   23.\\n  </div>\\n  <div class=\"organizationName second table-cell name\">\\n   Walmart\\n  </div>\\n  <div class=\"country table-cell country\">\\n   United States\\n  </div>\\n  <div class=\"revenue table-cell sales ($)\">\\n   $611.29 B\\n  </div>\\n  <div class=\"profits table-cell profit ($)\">\\n   $11.68 B\\n  </div>\\n  <div class=\"assets table-cell assets ($)\">\\n   $243.2 B\\n  </div>\\n  <div class=\"marketValue table-cell market value ($)\">\\n   $409.12 B\\n  </div>\\n </a>\\n <a aria-label=\"Citigroup\" canexpand=\"\" class=\"table-row active premiumProfile-citigroup\" href=\"https://www.forbes.com/companies/citigroup/?list=global2000\" rel=\"noopener noreferrer\" style=\"background-color:\" target=\"#_blank\" uri=\"citigroup\">\\n  <div class=\"rank first table-cell rank\">\\n   24.\\n  </div>\\n  <div class=\"organizationName second table-cell name\">\\n   Citigroup\\n  </div>\\n  <div class=\"country table-cell country\">\\n   United States\\n  </div>\\n  <div class=\"revenue table-cell sales ($)\">\\n   $120.42 B\\n  </div>\\n  <div class=\"profits table-cell profit ($)\">\\n   $15.02 B\\n  </div>\\n  <div class=\"assets table-cell assets ($)\">\\n   $2,455.11 B\\n  </div>\\n  <div class=\"marketValue table-cell market value ($)\">\\n   $90.03 B\\n  </div>\\n </a>\\n <a aria-label=\"China Mobile\" canexpand=\"\" class=\"table-row active premiumProfile-china-mobile\" href=\"https://www.forbes.com/companies/china-mobile/?list=global2000\" rel=\"noopener noreferrer\" style=\"background-color:\" target=\"#_blank\" uri=\"china-mobile\">\\n  <div class=\"rank first table-cell rank\">\\n   25.\\n  </div>\\n  <div class=\"organizationName second table-cell name\">\\n   China Mobile\\n  </div>\\n  <div class=\"country table-cell country\">\\n   Hong Kong\\n  </div>\\n  <div class=\"revenue table-cell sales ($)\">\\n   $140.53 B\\n  </div>\\n  <div class=\"profits table-cell profit ($)\">\\n   $18.76 B\\n  </div>\\n  <div class=\"assets table-cell assets ($)\">\\n   $290 B\\n  </div>\\n  <div class=\"marketValue table-cell market value ($)\">\\n   $186.41 B\\n  </div>\\n </a>\\n <a aria-label=\"China Merchants Bank\" canexpand=\"\" class=\"table-row active premiumProfile-china-merchants-bank\" href=\"https://www.forbes.com/companies/china-merchants-bank/?list=global2000\" rel=\"noopener noreferrer\" style=\"background-color:\" target=\"#_blank\" uri=\"china-merchants-bank\">\\n  <div class=\"rank first table-cell rank\">\\n   26.\\n  </div>\\n  <div class=\"organizationName second table-cell name\">\\n   China Merchants Bank\\n  </div>\\n  <div class=\"country table-cell country\">\\n   China\\n  </div>\\n  <div class=\"revenue table-cell sales ($)\">\\n   $72.44 B\\n  </div>\\n  <div class=\"profits table-cell profit ($)\">\\n   $20.56 B\\n  </div>\\n  <div class=\"assets table-cell assets ($)\">\\n   $1,458.48 B\\n  </div>\\n  <div class=\"marketValue table-cell market value ($)\">\\n   $129.84 B\\n  </div>\\n </a>\\n <a aria-label=\"Postal Savings Bank Of China (PSBC)\" canexpand=\"\" class=\"table-row active premiumProfile-postal-savings-bank-of-china\" href=\"https://www.forbes.com/companies/postal-savings-bank-of-china/?list=global2000\" rel=\"noopener noreferrer\" style=\"background-color:\" target=\"#_blank\" uri=\"postal-savings-bank-of-china\">\\n  <div class=\"rank first table-cell rank\">\\n   27.\\n  </div>\\n  <div class=\"organizationName second table-cell name\">\\n   Postal Savings Bank Of China (PSBC)\\n  </div>\\n  <div class=\"country table-cell country\">\\n   China\\n  </div>\\n  <div class=\"revenue table-cell sales ($)\">\\n   $82.51 B\\n  </div>\\n  <div class=\"profits table-cell profit ($)\">\\n   $12.78 B\\n  </div>\\n  <div class=\"assets table-cell assets ($)\">\\n   $2,023.57 B\\n  </div>\\n  <div class=\"marketValue table-cell market value ($)\">\\n   $110.18 B\\n  </div>\\n </a>\\n <a aria-label=\"BP\" canexpand=\"\" class=\"table-row active premiumProfile-bp\" href=\"https://www.forbes.com/companies/bp/?list=global2000\" rel=\"noopener noreferrer\" style=\"background-color:\" target=\"#_blank\" uri=\"bp\">\\n  <div class=\"rank first table-cell rank\">\\n   28.\\n  </div>\\n  <div class=\"organizationName second table-cell name\">\\n   BP\\n  </div>\\n  <div class=\"country table-cell country\">\\n   United Kingdom\\n  </div>\\n  <div class=\"revenue table-cell sales ($)\">\\n   $248.11 B\\n  </div>\\n  <div class=\"profits table-cell profit ($)\">\\n   $25.89 B\\n  </div>\\n  <div class=\"assets table-cell assets ($)\">\\n   $278.66 B\\n  </div>\\n  <div class=\"marketValue table-cell market value ($)\">\\n   $108.3 B\\n  </div>\\n </a>\\n <a aria-label=\"Volkswagen Group\" canexpand=\"\" class=\"table-row active premiumProfile-volkswagen-group\" href=\"https://www.forbes.com/companies/volkswagen-group/?list=global2000\" rel=\"noopener noreferrer\" style=\"background-color:\" target=\"#_blank\" uri=\"volkswagen-group\">\\n  <div class=\"rank first table-cell rank\">\\n   29.\\n  </div>\\n  <div class=\"organizationName second table-cell name\">\\n   Volkswagen Group\\n  </div>\\n  <div class=\"country table-cell country\">\\n   Germany\\n  </div>\\n  <div class=\"revenue table-cell sales ($)\">\\n   $293.47 B\\n  </div>\\n  <div class=\"profits table-cell profit ($)\">\\n   $15.63 B\\n  </div>\\n  <div class=\"assets table-cell assets ($)\">\\n   $633.78 B\\n  </div>\\n  <div class=\"marketValue table-cell market value ($)\">\\n   $70.16 B\\n  </div>\\n </a>\\n <a aria-label=\"Morgan Stanley\" canexpand=\"\" class=\"table-row active premiumProfile-morgan-stanley\" href=\"https://www.forbes.com/companies/morgan-stanley/?list=global2000\" rel=\"noopener noreferrer\" style=\"background-color:\" target=\"#_blank\" uri=\"morgan-stanley\">\\n  <div class=\"rank first table-cell rank\">\\n   30.\\n  </div>\\n  <div class=\"organizationName second table-cell name\">\\n   Morgan Stanley\\n  </div>\\n  <div class=\"country table-cell country\">\\n   United States\\n  </div>\\n  <div class=\"revenue table-cell sales ($)\">\\n   $74.16 B\\n  </div>\\n  <div class=\"profits table-cell profit ($)\">\\n   $10.34 B\\n  </div>\\n  <div class=\"assets table-cell assets ($)\">\\n   $1,199.9 B\\n  </div>\\n  <div class=\"marketValue table-cell market value ($)\">\\n   $141.76 B\\n  </div>\\n </a>\\n <a aria-label=\"Meta Platforms\" canexpand=\"\" class=\"table-row active premiumProfile-meta-platforms\" href=\"https://www.forbes.com/companies/meta-platforms/?list=global2000\" rel=\"noopener noreferrer\" style=\"background-color:\" target=\"#_blank\" uri=\"meta-platforms\">\\n  <div class=\"rank first table-cell rank\">\\n   31.\\n  </div>\\n  <div class=\"organizationName second table-cell name\">\\n   Meta Platforms\\n  </div>\\n  <div class=\"country table-cell country\">\\n   United States\\n  </div>\\n  <div class=\"revenue table-cell sales ($)\">\\n   $117.35 B\\n  </div>\\n  <div class=\"profits table-cell profit ($)\">\\n   $21.44 B\\n  </div>\\n  <div class=\"assets table-cell assets ($)\">\\n   $184.49 B\\n  </div>\\n  <div class=\"marketValue table-cell market value ($)\">\\n   $599.82 B\\n  </div>\\n </a>\\n <a aria-label=\"Sinopec\" canexpand=\"\" class=\"table-row active premiumProfile-sinopec\" href=\"https://www.forbes.com/companies/sinopec/?list=global2000\" rel=\"noopener noreferrer\" style=\"background-color:\" target=\"#_blank\" uri=\"sinopec\">\\n  <div class=\"rank first table-cell rank\">\\n   32.\\n  </div>\\n  <div class=\"organizationName second table-cell name\">\\n   Sinopec\\n  </div>\\n  <div class=\"country table-cell country\">\\n   China\\n  </div>\\n  <div class=\"revenue table-cell sales ($)\">\\n   $453.56 B\\n  </div>\\n  <div class=\"profits table-cell profit ($)\">\\n   $9.85 B\\n  </div>\\n  <div class=\"assets table-cell assets ($)\">\\n   $283.3 B\\n  </div>\\n  <div class=\"marketValue table-cell market value ($)\">\\n   $114.32 B\\n  </div>\\n </a>\\n <a aria-label=\"BNP Paribas\" canexpand=\"\" class=\"table-row active premiumProfile-bnp-paribas\" href=\"https://www.forbes.com/companies/bnp-paribas/?list=global2000\" rel=\"noopener noreferrer\" style=\"background-color:\" target=\"#_blank\" uri=\"bnp-paribas\">\\n  <div class=\"rank first table-cell rank\">\\n   33.\\n  </div>\\n  <div class=\"organizationName second table-cell name\">\\n   BNP Paribas\\n  </div>\\n  <div class=\"country table-cell country\">\\n   France\\n  </div>\\n  <div class=\"revenue table-cell sales ($)\">\\n   $99.47 B\\n  </div>\\n  <div class=\"profits table-cell profit ($)\">\\n   $10.11 B\\n  </div>\\n  <div class=\"assets table-cell assets ($)\">\\n   $2,845.69 B\\n  </div>\\n  <div class=\"marketValue table-cell market value ($)\">\\n   $78.59 B\\n  </div>\\n </a>\\n <a aria-label=\"Goldman Sachs Group\" canexpand=\"\" class=\"table-row active premiumProfile-goldman-sachs-group\" href=\"https://www.forbes.com/companies/goldman-sachs-group/?list=global2000\" rel=\"noopener noreferrer\" style=\"background-color:\" target=\"#_blank\" uri=\"goldman-sachs-group\">\\n  <div class=\"rank first table-cell rank\">\\n   33.\\n  </div>\\n  <div class=\"organizationName second table-cell name\">\\n   Goldman Sachs Group\\n  </div>\\n  <div class=\"country table-cell country\">\\n   United States\\n  </div>\\n  <div class=\"revenue table-cell sales ($)\">\\n   $79.45 B\\n  </div>\\n  <div class=\"profits table-cell profit ($)\">\\n   $10.56 B\\n  </div>\\n  <div class=\"assets table-cell assets ($)\">\\n   $1,538.35 B\\n  </div>\\n  <div class=\"marketValue table-cell market value ($)\">\\n   $108.72 B\\n  </div>\\n </a>\\n <a aria-label=\"Tencent Holdings\" canexpand=\"\" class=\"table-row active premiumProfile-tencent-holdings\" href=\"https://www.forbes.com/companies/tencent-holdings/?list=global2000\" rel=\"noopener noreferrer\" style=\"background-color:\" target=\"#_blank\" uri=\"tencent-holdings\">\\n  <div class=\"rank first table-cell rank\">\\n   35.\\n  </div>\\n  <div class=\"organizationName second table-cell name\">\\n   Tencent Holdings\\n  </div>\\n  <div class=\"country table-cell country\">\\n   China\\n  </div>\\n  <div class=\"revenue table-cell sales ($)\">\\n   $82.41 B\\n  </div>\\n  <div class=\"profits table-cell profit ($)\">\\n   $27.26 B\\n  </div>\\n  <div class=\"assets table-cell assets ($)\">\\n   $227.01 B\\n  </div>\\n  <div class=\"marketValue table-cell market value ($)\">\\n   $415.36 B\\n  </div>\\n </a>\\n <a aria-label=\"Amazon\" canexpand=\"\" class=\"table-row active premiumProfile-amazon\" href=\"https://www.forbes.com/companies/amazon/?list=global2000\" rel=\"noopener noreferrer\" style=\"background-color:\" target=\"#_blank\" uri=\"amazon\">\\n  <div class=\"rank first table-cell rank\">\\n   36.\\n  </div>\\n  <div class=\"organizationName second table-cell name\">\\n   Amazon\\n  </div>\\n  <div class=\"country table-cell country\">\\n   United States\\n  </div>\\n  <div class=\"revenue table-cell sales ($)\">\\n   $524.9 B\\n  </div>\\n  <div class=\"profits table-cell profit ($)\">\\n   $4.29 B\\n  </div>\\n  <div class=\"assets table-cell assets ($)\">\\n   $464.38 B\\n  </div>\\n  <div class=\"marketValue table-cell market value ($)\">\\n   $1,084.06 B\\n  </div>\\n </a>\\n <a aria-label=\"Allianz\" canexpand=\"\" class=\"table-row active premiumProfile-allianz\" href=\"https://www.forbes.com/companies/allianz/?list=global2000\" rel=\"noopener noreferrer\" style=\"background-color:\" target=\"#_blank\" uri=\"allianz\">\\n  <div class=\"rank first table-cell rank\">\\n   37.\\n  </div>\\n  <div class=\"organizationName second table-cell name\">\\n   Allianz\\n  </div>\\n  <div class=\"country table-cell country\">\\n   Germany\\n  </div>\\n  <div class=\"revenue table-cell sales ($)\">\\n   $134.26 B\\n  </div>\\n  <div class=\"profits table-cell profit ($)\">\\n   $7.08 B\\n  </div>\\n  <div class=\"assets table-cell assets ($)\">\\n   $1,139.49 B\\n  </div>\\n  <div class=\"marketValue table-cell market value ($)\">\\n   $95.45 B\\n  </div>\\n </a>\\n <a aria-label=\"RBC\" canexpand=\"\" class=\"table-row active premiumProfile-rbc\" href=\"https://www.forbes.com/companies/rbc/?list=global2000\" rel=\"noopener noreferrer\" style=\"background-color:\" target=\"#_blank\" uri=\"rbc\">\\n  <div class=\"rank first table-cell rank\">\\n   38.\\n  </div>\\n  <div class=\"organizationName second table-cell name\">\\n   RBC\\n  </div>\\n  <div class=\"country table-cell country\">\\n   Canada\\n  </div>\\n  <div class=\"revenue table-cell sales ($)\">\\n   $60.22 B\\n  </div>\\n  <div class=\"profits table-cell profit ($)\">\\n   $11.4 B\\n  </div>\\n  <div class=\"assets table-cell assets ($)\">\\n   $1,448.66 B\\n  </div>\\n  <div class=\"marketValue table-cell market value ($)\">\\n   $135.15 B\\n  </div>\\n </a>\\n <a aria-label=\"Pfizer\" canexpand=\"canExpand\" class=\"table-row active premiumProfile expandable premiumProfile-pfizer\" rel=\"noopener noreferrer\" style=\"background-color:\" uri=\"pfizer\">\\n  <div class=\"rank first table-cell rank\">\\n   39.\\n  </div>\\n  <div class=\"organizationName second table-cell name\">\\n   Pfizer\\n  </div>\\n  <div class=\"country table-cell country\">\\n   United States\\n  </div>\\n  <div class=\"revenue table-cell sales ($)\">\\n   $92.95 B\\n  </div>\\n  <div class=\"profits table-cell profit ($)\">\\n   $29.04 B\\n  </div>\\n  <div class=\"assets table-cell assets ($)\">\\n   $197.21 B\\n  </div>\\n  <div class=\"marketValue table-cell canExpand market value ($)\">\\n   $216.28 B\\n  </div>\\n </a>\\n <a aria-label=\"Johnson &amp; Johnson\" canexpand=\"\" class=\"table-row active premiumProfile-johnson-johnson\" href=\"https://www.forbes.com/companies/johnson-johnson/?list=global2000\" rel=\"noopener noreferrer\" style=\"background-color:\" target=\"#_blank\" uri=\"johnson-johnson\">\\n  <div class=\"rank first table-cell rank\">\\n   40.\\n  </div>\\n  <div class=\"organizationName second table-cell name\">\\n   Johnson &amp; Johnson\\n  </div>\\n  <div class=\"country table-cell country\">\\n   United States\\n  </div>\\n  <div class=\"revenue table-cell sales ($)\">\\n   $96.31 B\\n  </div>\\n  <div class=\"profits table-cell profit ($)\">\\n   $12.72 B\\n  </div>\\n  <div class=\"assets table-cell assets ($)\">\\n   $195.97 B\\n  </div>\\n  <div class=\"marketValue table-cell market value ($)\">\\n   $422.76 B\\n  </div>\\n </a>\\n <a aria-label=\"Deutsche Telekom\" canexpand=\"\" class=\"table-row active premiumProfile-deutsche-telekom\" href=\"https://www.forbes.com/companies/deutsche-telekom/?list=global2000\" rel=\"noopener noreferrer\" style=\"background-color:\" target=\"#_blank\" uri=\"deutsche-telekom\">\\n  <div class=\"rank first table-cell rank\">\\n   41.\\n  </div>\\n  <div class=\"organizationName second table-cell name\">\\n   Deutsche Telekom\\n  </div>\\n  <div class=\"country table-cell country\">\\n   Germany\\n  </div>\\n  <div class=\"revenue table-cell sales ($)\">\\n   $120.72 B\\n  </div>\\n  <div class=\"profits table-cell profit ($)\">\\n   $8.41 B\\n  </div>\\n  <div class=\"assets table-cell assets ($)\">\\n   $342.62 B\\n  </div>\\n  <div class=\"marketValue table-cell market value ($)\">\\n   $117.18 B\\n  </div>\\n </a>\\n <a aria-label=\"Mercedes-Benz Group\" canexpand=\"\" class=\"table-row active premiumProfile-mercedes-benz-group\" href=\"https://www.forbes.com/companies/mercedes-benz-group/?list=global2000\" rel=\"noopener noreferrer\" style=\"background-color:\" target=\"#_blank\" uri=\"mercedes-benz-group\">\\n  <div class=\"rank first table-cell rank\">\\n   42.\\n  </div>\\n  <div class=\"organizationName second table-cell name\">\\n   Mercedes-Benz Group\\n  </div>\\n  <div class=\"country table-cell country\">\\n   Germany\\n  </div>\\n  <div class=\"revenue table-cell sales ($)\">\\n   $158.78 B\\n  </div>\\n  <div class=\"profits table-cell profit ($)\">\\n   $15.55 B\\n  </div>\\n  <div class=\"assets table-cell assets ($)\">\\n   $286 B\\n  </div>\\n  <div class=\"marketValue table-cell market value ($)\">\\n   $78.49 B\\n  </div>\\n </a>\\n <a aria-label=\"TD Bank Group\" canexpand=\"\" class=\"table-row active premiumProfile-td-bank-group\" href=\"https://www.forbes.com/companies/td-bank-group/?list=global2000\" rel=\"noopener noreferrer\" style=\"background-color:\" target=\"#_blank\" uri=\"td-bank-group\">\\n  <div class=\"rank first table-cell rank\">\\n   43.\\n  </div>\\n  <div class=\"organizationName second table-cell name\">\\n   TD Bank Group\\n  </div>\\n  <div class=\"country table-cell country\">\\n   Canada\\n  </div>\\n  <div class=\"revenue table-cell sales ($)\">\\n   $56.72 B\\n  </div>\\n  <div class=\"profits table-cell profit ($)\">\\n   $11.68 B\\n  </div>\\n  <div class=\"assets table-cell assets ($)\">\\n   $1,445.11 B\\n  </div>\\n  <div class=\"marketValue table-cell market value ($)\">\\n   $112.92 B\\n  </div>\\n </a>\\n <a aria-label=\"Taiwan Semiconductor\" canexpand=\"\" class=\"table-row active premiumProfile-taiwan-semiconductor\" href=\"https://www.forbes.com/companies/taiwan-semiconductor/?list=global2000\" rel=\"noopener noreferrer\" style=\"background-color:\" target=\"#_blank\" uri=\"taiwan-semiconductor\">\\n  <div class=\"rank first table-cell rank\">\\n   44.\\n  </div>\\n  <div class=\"organizationName second table-cell name\">\\n   Taiwan Semiconductor\\n  </div>\\n  <div class=\"country table-cell country\">\\n   Taiwan\\n  </div>\\n  <div class=\"revenue table-cell sales ($)\">\\n   $75.03 B\\n  </div>\\n  <div class=\"profits table-cell profit ($)\">\\n   $33.57 B\\n  </div>\\n  <div class=\"assets table-cell assets ($)\">\\n   $165.72 B\\n  </div>\\n  <div class=\"marketValue table-cell market value ($)\">\\n   $423.17 B\\n  </div>\\n </a>\\n <a aria-label=\"Reliance Industries\" canexpand=\"\" class=\"table-row active premiumProfile-reliance-industries\" href=\"https://www.forbes.com/companies/reliance-industries/?list=global2000\" rel=\"noopener noreferrer\" style=\"background-color:\" target=\"#_blank\" uri=\"reliance-industries\">\\n  <div class=\"rank first table-cell rank\">\\n   45.\\n  </div>\\n  <div class=\"organizationName second table-cell name\">\\n   Reliance Industries\\n  </div>\\n  <div class=\"country table-cell country\">\\n   India\\n  </div>\\n  <div class=\"revenue table-cell sales ($)\">\\n   $109.43 B\\n  </div>\\n  <div class=\"profits table-cell profit ($)\">\\n   $8.3 B\\n  </div>\\n  <div class=\"assets table-cell assets ($)\">\\n   $208.5 B\\n  </div>\\n  <div class=\"marketValue table-cell market value ($)\">\\n   $189.19 B\\n  </div>\\n </a>\\n <a aria-label=\"BMW Group\" canexpand=\"\" class=\"table-row active premiumProfile-bmw-group\" href=\"https://www.forbes.com/companies/bmw-group/?list=global2000\" rel=\"noopener noreferrer\" style=\"background-color:\" target=\"#_blank\" uri=\"bmw-group\">\\n  <div class=\"rank first table-cell rank\">\\n   46.\\n  </div>\\n  <div class=\"organizationName second table-cell name\">\\n   BMW Group\\n  </div>\\n  <div class=\"country table-cell country\">\\n   Germany\\n  </div>\\n  <div class=\"revenue table-cell sales ($)\">\\n   $154.25 B\\n  </div>\\n  <div class=\"profits table-cell profit ($)\">\\n   $11.67 B\\n  </div>\\n  <div class=\"assets table-cell assets ($)\">\\n   $268.98 B\\n  </div>\\n  <div class=\"marketValue table-cell market value ($)\">\\n   $75.77 B\\n  </div>\\n </a>\\n <a aria-label=\"LVMH Moët Hennessy Louis Vuitton\" canexpand=\"\" class=\"table-row active premiumProfile-lvmh-moet-hennessy-louis-vuitton\" href=\"https://www.forbes.com/companies/lvmh-moet-hennessy-louis-vuitton/?list=global2000\" rel=\"noopener noreferrer\" style=\"background-color:\" target=\"#_blank\" uri=\"lvmh-moet-hennessy-louis-vuitton\">\\n  <div class=\"rank first table-cell rank\">\\n   47.\\n  </div>\\n  <div class=\"organizationName second table-cell name\">\\n   LVMH Moët Hennessy Louis Vuitton\\n  </div>\\n  <div class=\"country table-cell country\">\\n   France\\n  </div>\\n  <div class=\"revenue table-cell sales ($)\">\\n   $83.22 B\\n  </div>\\n  <div class=\"profits table-cell profit ($)\">\\n   $14.8 B\\n  </div>\\n  <div class=\"assets table-cell assets ($)\">\\n   $143.7 B\\n  </div>\\n  <div class=\"marketValue table-cell market value ($)\">\\n   $482.45 B\\n  </div>\\n </a>\\n <a aria-label=\"AXA Group\" canexpand=\"\" class=\"table-row active premiumProfile-axa-group\" href=\"https://www.forbes.com/companies/axa-group/?list=global2000\" rel=\"noopener noreferrer\" style=\"background-color:\" target=\"#_blank\" uri=\"axa-group\">\\n  <div class=\"rank first table-cell rank\">\\n   48.\\n  </div>\\n  <div class=\"organizationName second table-cell name\">\\n   AXA Group\\n  </div>\\n  <div class=\"country table-cell country\">\\n   France\\n  </div>\\n  <div class=\"revenue table-cell sales ($)\">\\n   $110.92 B\\n  </div>\\n  <div class=\"profits table-cell profit ($)\">\\n   $6.83 B\\n  </div>\\n  <div class=\"assets table-cell assets ($)\">\\n   $701.25 B\\n  </div>\\n  <div class=\"marketValue table-cell market value ($)\">\\n   $70.07 B\\n  </div>\\n </a>\\n <a aria-label=\"Santander\" canexpand=\"\" class=\"table-row active premiumProfile-santander\" href=\"https://www.forbes.com/companies/santander/?list=global2000\" rel=\"noopener noreferrer\" style=\"background-color:\" target=\"#_blank\" uri=\"santander\">\\n  <div class=\"rank first table-cell rank\">\\n   49.\\n  </div>\\n  <div class=\"organizationName second table-cell name\">\\n   Santander\\n  </div>\\n  <div class=\"country table-cell country\">\\n   Spain\\n  </div>\\n  <div class=\"revenue table-cell sales ($)\">\\n   $87.74 B\\n  </div>\\n  <div class=\"profits table-cell profit ($)\">\\n   $10.09 B\\n  </div>\\n  <div class=\"assets table-cell assets ($)\">\\n   $1,900.64 B\\n  </div>\\n  <div class=\"marketValue table-cell market value ($)\">\\n   $56.18 B\\n  </div>\\n </a>\\n <a aria-label=\"Nestlé\" canexpand=\"\" class=\"table-row active premiumProfile-nestle\" href=\"https://www.forbes.com/companies/nestle/?list=global2000\" rel=\"noopener noreferrer\" style=\"background-color:\" target=\"#_blank\" uri=\"nestle\">\\n  <div class=\"rank first table-cell rank\">\\n   50.\\n  </div>\\n  <div class=\"organizationName second table-cell name\">\\n   Nestlé\\n  </div>\\n  <div class=\"country table-cell country\">\\n   Switzerland\\n  </div>\\n  <div class=\"revenue table-cell sales ($)\">\\n   $98.87 B\\n  </div>\\n  <div class=\"profits table-cell profit ($)\">\\n   $9.71 B\\n  </div>\\n  <div class=\"assets table-cell assets ($)\">\\n   $146.11 B\\n  </div>\\n  <div class=\"marketValue table-cell market value ($)\">\\n   $337.66 B\\n  </div>\\n </a>\\n</div>'"
      ]
     },
     "execution_count": 27,
     "metadata": {},
     "output_type": "execute_result"
    }
   ],
   "source": [
    "soup.find(\"div\", attrs={'class':'table-row-group'}).prettify()"
   ]
  },
  {
   "cell_type": "code",
   "execution_count": 8,
   "id": "bc466cff",
   "metadata": {},
   "outputs": [
    {
     "data": {
      "text/plain": [
       "'United Therapeutics'"
      ]
     },
     "execution_count": 8,
     "metadata": {},
     "output_type": "execute_result"
    }
   ],
   "source": [
    "soup.find_all(\"div\", attrs={'class':'organizationName second table-cell name'})[1950].text.strip()"
   ]
  },
  {
   "cell_type": "code",
   "execution_count": 9,
   "id": "6b1d9433",
   "metadata": {},
   "outputs": [
    {
     "data": {
      "text/plain": [
       "'France'"
      ]
     },
     "execution_count": 9,
     "metadata": {},
     "output_type": "execute_result"
    }
   ],
   "source": [
    "soup.find_all(\"div\", attrs={'class':'country table-cell country'})[1999].text.strip()"
   ]
  },
  {
   "cell_type": "code",
   "execution_count": 10,
   "id": "82b79314",
   "metadata": {},
   "outputs": [
    {
     "data": {
      "text/plain": [
       "'$3.18 B'"
      ]
     },
     "execution_count": 10,
     "metadata": {},
     "output_type": "execute_result"
    }
   ],
   "source": [
    "soup.find_all(\"div\", attrs={'class':'revenue table-cell sales ($)'})[1999].text.strip()"
   ]
  },
  {
   "cell_type": "code",
   "execution_count": 11,
   "id": "8d8e4059",
   "metadata": {},
   "outputs": [
    {
     "data": {
      "text/plain": [
       "'$681.7 M'"
      ]
     },
     "execution_count": 11,
     "metadata": {},
     "output_type": "execute_result"
    }
   ],
   "source": [
    "soup.find_all(\"div\", attrs={'class':'profits table-cell profit ($)'})[1999].text.strip()"
   ]
  },
  {
   "cell_type": "code",
   "execution_count": 12,
   "id": "d327e126",
   "metadata": {},
   "outputs": [
    {
     "data": {
      "text/plain": [
       "'$5.99 B'"
      ]
     },
     "execution_count": 12,
     "metadata": {},
     "output_type": "execute_result"
    }
   ],
   "source": [
    "soup.find_all(\"div\", attrs={'class':'assets table-cell assets ($)'})[1999].text.strip()"
   ]
  },
  {
   "cell_type": "code",
   "execution_count": 13,
   "id": "3e88f138",
   "metadata": {},
   "outputs": [
    {
     "data": {
      "text/plain": [
       "'$551 M'"
      ]
     },
     "execution_count": 13,
     "metadata": {},
     "output_type": "execute_result"
    }
   ],
   "source": [
    "soup.find_all(\"div\", attrs={'class':'marketValue table-cell market value ($)'})[1950].text"
   ]
  },
  {
   "cell_type": "code",
   "execution_count": 14,
   "id": "04b91add",
   "metadata": {},
   "outputs": [
    {
     "data": {
      "text/plain": [
       "2000"
      ]
     },
     "execution_count": 14,
     "metadata": {},
     "output_type": "execute_result"
    }
   ],
   "source": [
    "rowlength = len(soup.find_all(\"div\", attrs={'class':'organizationName second table-cell name'}))\n",
    "rowlength"
   ]
  },
  {
   "cell_type": "code",
   "execution_count": 15,
   "id": "8431d1bd",
   "metadata": {},
   "outputs": [],
   "source": [
    "data = []"
   ]
  },
  {
   "cell_type": "code",
   "execution_count": 16,
   "id": "15bc5a7a",
   "metadata": {},
   "outputs": [],
   "source": [
    "for i in range(0,rowlength):\n",
    "    name = soup.find_all(\"div\", attrs={'class':'organizationName second table-cell name'})[i].text.strip()\n",
    "    country = soup.find_all(\"div\", attrs={'class':'country table-cell country'})[i].text.strip()\n",
    "    sales = soup.find_all(\"div\", attrs={'class':'revenue table-cell sales ($)'})[i].text.strip()\n",
    "    profits = soup.find_all(\"div\", attrs={'class':'profits table-cell profit ($)'})[i].text.strip()\n",
    "    assets = soup.find_all(\"div\", attrs={'class':'assets table-cell assets ($)'})[i].text.strip()\n",
    "    \n",
    "    data.append((name,country, sales, profits, assets))"
   ]
  },
  {
   "cell_type": "code",
   "execution_count": 18,
   "id": "a1013ae8",
   "metadata": {},
   "outputs": [
    {
     "data": {
      "text/plain": [
       "[('JPMorgan Chase', 'United States', '$179.93 B', '$41.8 B', '$3,744.3 B'),\n",
       " ('Saudi Arabian Oil Company (Saudi Aramco)',\n",
       "  'Saudi Arabia',\n",
       "  '$589.47 B',\n",
       "  '$156.36 B',\n",
       "  '$660.99 B'),\n",
       " ('ICBC', 'China', '$216.77 B', '$52.47 B', '$6,116.82 B'),\n",
       " ('China Construction Bank', 'China', '$203.08 B', '$48.25 B', '$4,977.48 B'),\n",
       " ('Agricultural Bank of China',\n",
       "  'China',\n",
       "  '$186.14 B',\n",
       "  '$37.92 B',\n",
       "  '$5,356.86 B'),\n",
       " ('Bank of America', 'United States', '$133.84 B', '$28.62 B', '$3,194.66 B'),\n",
       " ('Alphabet', 'United States', '$282.85 B', '$58.59 B', '$369.49 B'),\n",
       " ('ExxonMobil', 'United States', '$393.16 B', '$61.69 B', '$369.37 B'),\n",
       " ('Microsoft', 'United States', '$207.59 B', '$69.02 B', '$380.09 B'),\n",
       " ('Apple', 'United States', '$385.1 B', '$94.32 B', '$332.16 B')]"
      ]
     },
     "execution_count": 18,
     "metadata": {},
     "output_type": "execute_result"
    }
   ],
   "source": [
    "data[:10]"
   ]
  },
  {
   "cell_type": "code",
   "execution_count": 22,
   "id": "f7ca84e8",
   "metadata": {},
   "outputs": [],
   "source": [
    "import pandas as pd"
   ]
  },
  {
   "cell_type": "code",
   "execution_count": 63,
   "id": "d7b71b51",
   "metadata": {},
   "outputs": [
    {
     "data": {
      "text/html": [
       "<div>\n",
       "<style scoped>\n",
       "    .dataframe tbody tr th:only-of-type {\n",
       "        vertical-align: middle;\n",
       "    }\n",
       "\n",
       "    .dataframe tbody tr th {\n",
       "        vertical-align: top;\n",
       "    }\n",
       "\n",
       "    .dataframe thead th {\n",
       "        text-align: right;\n",
       "    }\n",
       "</style>\n",
       "<table border=\"1\" class=\"dataframe\">\n",
       "  <thead>\n",
       "    <tr style=\"text-align: right;\">\n",
       "      <th></th>\n",
       "      <th>Company Name</th>\n",
       "      <th>Country</th>\n",
       "      <th>Sales</th>\n",
       "      <th>Profit</th>\n",
       "      <th>Assets</th>\n",
       "    </tr>\n",
       "  </thead>\n",
       "  <tbody>\n",
       "    <tr>\n",
       "      <th>0</th>\n",
       "      <td>JPMorgan Chase</td>\n",
       "      <td>United States</td>\n",
       "      <td>$179.93 B</td>\n",
       "      <td>$41.8 B</td>\n",
       "      <td>$3,744.3 B</td>\n",
       "    </tr>\n",
       "    <tr>\n",
       "      <th>1</th>\n",
       "      <td>Saudi Arabian Oil Company (Saudi Aramco)</td>\n",
       "      <td>Saudi Arabia</td>\n",
       "      <td>$589.47 B</td>\n",
       "      <td>$156.36 B</td>\n",
       "      <td>$660.99 B</td>\n",
       "    </tr>\n",
       "    <tr>\n",
       "      <th>2</th>\n",
       "      <td>ICBC</td>\n",
       "      <td>China</td>\n",
       "      <td>$216.77 B</td>\n",
       "      <td>$52.47 B</td>\n",
       "      <td>$6,116.82 B</td>\n",
       "    </tr>\n",
       "    <tr>\n",
       "      <th>3</th>\n",
       "      <td>China Construction Bank</td>\n",
       "      <td>China</td>\n",
       "      <td>$203.08 B</td>\n",
       "      <td>$48.25 B</td>\n",
       "      <td>$4,977.48 B</td>\n",
       "    </tr>\n",
       "    <tr>\n",
       "      <th>4</th>\n",
       "      <td>Agricultural Bank of China</td>\n",
       "      <td>China</td>\n",
       "      <td>$186.14 B</td>\n",
       "      <td>$37.92 B</td>\n",
       "      <td>$5,356.86 B</td>\n",
       "    </tr>\n",
       "    <tr>\n",
       "      <th>5</th>\n",
       "      <td>Bank of America</td>\n",
       "      <td>United States</td>\n",
       "      <td>$133.84 B</td>\n",
       "      <td>$28.62 B</td>\n",
       "      <td>$3,194.66 B</td>\n",
       "    </tr>\n",
       "    <tr>\n",
       "      <th>6</th>\n",
       "      <td>Alphabet</td>\n",
       "      <td>United States</td>\n",
       "      <td>$282.85 B</td>\n",
       "      <td>$58.59 B</td>\n",
       "      <td>$369.49 B</td>\n",
       "    </tr>\n",
       "    <tr>\n",
       "      <th>7</th>\n",
       "      <td>ExxonMobil</td>\n",
       "      <td>United States</td>\n",
       "      <td>$393.16 B</td>\n",
       "      <td>$61.69 B</td>\n",
       "      <td>$369.37 B</td>\n",
       "    </tr>\n",
       "    <tr>\n",
       "      <th>8</th>\n",
       "      <td>Microsoft</td>\n",
       "      <td>United States</td>\n",
       "      <td>$207.59 B</td>\n",
       "      <td>$69.02 B</td>\n",
       "      <td>$380.09 B</td>\n",
       "    </tr>\n",
       "    <tr>\n",
       "      <th>9</th>\n",
       "      <td>Apple</td>\n",
       "      <td>United States</td>\n",
       "      <td>$385.1 B</td>\n",
       "      <td>$94.32 B</td>\n",
       "      <td>$332.16 B</td>\n",
       "    </tr>\n",
       "  </tbody>\n",
       "</table>\n",
       "</div>"
      ],
      "text/plain": [
       "                               Company Name        Country      Sales  \\\n",
       "0                            JPMorgan Chase  United States  $179.93 B   \n",
       "1  Saudi Arabian Oil Company (Saudi Aramco)   Saudi Arabia  $589.47 B   \n",
       "2                                      ICBC          China  $216.77 B   \n",
       "3                   China Construction Bank          China  $203.08 B   \n",
       "4                Agricultural Bank of China          China  $186.14 B   \n",
       "5                           Bank of America  United States  $133.84 B   \n",
       "6                                  Alphabet  United States  $282.85 B   \n",
       "7                                ExxonMobil  United States  $393.16 B   \n",
       "8                                 Microsoft  United States  $207.59 B   \n",
       "9                                     Apple  United States   $385.1 B   \n",
       "\n",
       "      Profit       Assets  \n",
       "0    $41.8 B   $3,744.3 B  \n",
       "1  $156.36 B    $660.99 B  \n",
       "2   $52.47 B  $6,116.82 B  \n",
       "3   $48.25 B  $4,977.48 B  \n",
       "4   $37.92 B  $5,356.86 B  \n",
       "5   $28.62 B  $3,194.66 B  \n",
       "6   $58.59 B    $369.49 B  \n",
       "7   $61.69 B    $369.37 B  \n",
       "8   $69.02 B    $380.09 B  \n",
       "9   $94.32 B    $332.16 B  "
      ]
     },
     "execution_count": 63,
     "metadata": {},
     "output_type": "execute_result"
    }
   ],
   "source": [
    "data_company = pd.DataFrame(data, columns=('Company Name','Country', 'Sales', 'Profit', 'Assets'))\n",
    "data_company.head(10)"
   ]
  },
  {
   "cell_type": "code",
   "execution_count": 64,
   "id": "caca943f",
   "metadata": {},
   "outputs": [
    {
     "name": "stdout",
     "output_type": "stream",
     "text": [
      "<class 'pandas.core.frame.DataFrame'>\n",
      "RangeIndex: 2000 entries, 0 to 1999\n",
      "Data columns (total 5 columns):\n",
      " #   Column        Non-Null Count  Dtype \n",
      "---  ------        --------------  ----- \n",
      " 0   Company Name  2000 non-null   object\n",
      " 1   Country       2000 non-null   object\n",
      " 2   Sales         2000 non-null   object\n",
      " 3   Profit        2000 non-null   object\n",
      " 4   Assets        2000 non-null   object\n",
      "dtypes: object(5)\n",
      "memory usage: 78.2+ KB\n"
     ]
    }
   ],
   "source": [
    "data_company.info()"
   ]
  },
  {
   "cell_type": "code",
   "execution_count": 76,
   "id": "98a4454c",
   "metadata": {},
   "outputs": [
    {
     "name": "stderr",
     "output_type": "stream",
     "text": [
      "C:\\Users\\pinos\\AppData\\Local\\Temp\\ipykernel_2304\\236497370.py:1: FutureWarning: The default value of regex will change from True to False in a future version. In addition, single character regular expressions will *not* be treated as literal strings when regex=True.\n",
      "  data_company['Sales'] = data_company['Sales'].str.replace('$', '').str.replace(' ', '').str.replace(',', '')\n",
      "C:\\Users\\pinos\\AppData\\Local\\Temp\\ipykernel_2304\\236497370.py:2: FutureWarning: The default value of regex will change from True to False in a future version. In addition, single character regular expressions will *not* be treated as literal strings when regex=True.\n",
      "  data_company['Profit'] = data_company['Profit'].str.replace('$', '').str.replace(' ', '').str.replace(',', '')\n",
      "C:\\Users\\pinos\\AppData\\Local\\Temp\\ipykernel_2304\\236497370.py:3: FutureWarning: The default value of regex will change from True to False in a future version. In addition, single character regular expressions will *not* be treated as literal strings when regex=True.\n",
      "  data_company['Assets'] = data_company['Assets'].str.replace('$', '').str.replace(' ', '').str.replace(',', '')\n"
     ]
    }
   ],
   "source": [
    "data_company['Sales'] = data_company['Sales'].str.replace('$', '').str.replace(' ', '').str.replace(',', '')\n",
    "data_company['Profit'] = data_company['Profit'].str.replace('$', '').str.replace(' ', '').str.replace(',', '')\n",
    "data_company['Assets'] = data_company['Assets'].str.replace('$', '').str.replace(' ', '').str.replace(',', '')"
   ]
  },
  {
   "cell_type": "code",
   "execution_count": 78,
   "id": "0e19ae06",
   "metadata": {},
   "outputs": [],
   "source": [
    "def convert_total_votes(votes_str):\n",
    "    multiplier = 1\n",
    "    if votes_str[-1] == 'M':\n",
    "        multiplier = 1e6\n",
    "    elif votes_str[-1] == 'B':\n",
    "        multiplier = 1e9\n",
    "    return int(float(votes_str[:-1]) * multiplier)\n",
    "\n",
    "data_company['Sales'] = data_company['Sales'].apply(convert_total_votes)\n",
    "data_company['Profit'] = data_company['Profit'].apply(convert_total_votes)\n",
    "data_company['Assets'] = data_company['Assets'].apply(convert_total_votes)"
   ]
  },
  {
   "cell_type": "code",
   "execution_count": 81,
   "id": "c90f80ab",
   "metadata": {},
   "outputs": [],
   "source": [
    "data_company[['Sales', 'Profit', 'Assets']] = data_company[['Sales', 'Profit', 'Assets']].astype('float')\n",
    "data_company['Country'] = data_company['Country'].astype('category')"
   ]
  },
  {
   "cell_type": "code",
   "execution_count": 82,
   "id": "1e082ca9",
   "metadata": {},
   "outputs": [
    {
     "data": {
      "text/html": [
       "<div>\n",
       "<style scoped>\n",
       "    .dataframe tbody tr th:only-of-type {\n",
       "        vertical-align: middle;\n",
       "    }\n",
       "\n",
       "    .dataframe tbody tr th {\n",
       "        vertical-align: top;\n",
       "    }\n",
       "\n",
       "    .dataframe thead th {\n",
       "        text-align: right;\n",
       "    }\n",
       "</style>\n",
       "<table border=\"1\" class=\"dataframe\">\n",
       "  <thead>\n",
       "    <tr style=\"text-align: right;\">\n",
       "      <th></th>\n",
       "      <th>Company Name</th>\n",
       "      <th>Country</th>\n",
       "      <th>Sales</th>\n",
       "      <th>Profit</th>\n",
       "      <th>Assets</th>\n",
       "    </tr>\n",
       "  </thead>\n",
       "  <tbody>\n",
       "    <tr>\n",
       "      <th>0</th>\n",
       "      <td>JPMorgan Chase</td>\n",
       "      <td>United States</td>\n",
       "      <td>1.799300e+11</td>\n",
       "      <td>4.180000e+10</td>\n",
       "      <td>3.744300e+12</td>\n",
       "    </tr>\n",
       "    <tr>\n",
       "      <th>1</th>\n",
       "      <td>Saudi Arabian Oil Company (Saudi Aramco)</td>\n",
       "      <td>Saudi Arabia</td>\n",
       "      <td>5.894700e+11</td>\n",
       "      <td>1.563600e+11</td>\n",
       "      <td>6.609900e+11</td>\n",
       "    </tr>\n",
       "    <tr>\n",
       "      <th>2</th>\n",
       "      <td>ICBC</td>\n",
       "      <td>China</td>\n",
       "      <td>2.167700e+11</td>\n",
       "      <td>5.247000e+10</td>\n",
       "      <td>6.116820e+12</td>\n",
       "    </tr>\n",
       "    <tr>\n",
       "      <th>3</th>\n",
       "      <td>China Construction Bank</td>\n",
       "      <td>China</td>\n",
       "      <td>2.030800e+11</td>\n",
       "      <td>4.825000e+10</td>\n",
       "      <td>4.977480e+12</td>\n",
       "    </tr>\n",
       "    <tr>\n",
       "      <th>4</th>\n",
       "      <td>Agricultural Bank of China</td>\n",
       "      <td>China</td>\n",
       "      <td>1.861400e+11</td>\n",
       "      <td>3.792000e+10</td>\n",
       "      <td>5.356860e+12</td>\n",
       "    </tr>\n",
       "    <tr>\n",
       "      <th>5</th>\n",
       "      <td>Bank of America</td>\n",
       "      <td>United States</td>\n",
       "      <td>1.338400e+11</td>\n",
       "      <td>2.862000e+10</td>\n",
       "      <td>3.194660e+12</td>\n",
       "    </tr>\n",
       "    <tr>\n",
       "      <th>6</th>\n",
       "      <td>Alphabet</td>\n",
       "      <td>United States</td>\n",
       "      <td>2.828500e+11</td>\n",
       "      <td>5.859000e+10</td>\n",
       "      <td>3.694900e+11</td>\n",
       "    </tr>\n",
       "    <tr>\n",
       "      <th>7</th>\n",
       "      <td>ExxonMobil</td>\n",
       "      <td>United States</td>\n",
       "      <td>3.931600e+11</td>\n",
       "      <td>6.169000e+10</td>\n",
       "      <td>3.693700e+11</td>\n",
       "    </tr>\n",
       "    <tr>\n",
       "      <th>8</th>\n",
       "      <td>Microsoft</td>\n",
       "      <td>United States</td>\n",
       "      <td>2.075900e+11</td>\n",
       "      <td>6.902000e+10</td>\n",
       "      <td>3.800900e+11</td>\n",
       "    </tr>\n",
       "    <tr>\n",
       "      <th>9</th>\n",
       "      <td>Apple</td>\n",
       "      <td>United States</td>\n",
       "      <td>3.851000e+11</td>\n",
       "      <td>9.432000e+10</td>\n",
       "      <td>3.321600e+11</td>\n",
       "    </tr>\n",
       "  </tbody>\n",
       "</table>\n",
       "</div>"
      ],
      "text/plain": [
       "                               Company Name        Country         Sales  \\\n",
       "0                            JPMorgan Chase  United States  1.799300e+11   \n",
       "1  Saudi Arabian Oil Company (Saudi Aramco)   Saudi Arabia  5.894700e+11   \n",
       "2                                      ICBC          China  2.167700e+11   \n",
       "3                   China Construction Bank          China  2.030800e+11   \n",
       "4                Agricultural Bank of China          China  1.861400e+11   \n",
       "5                           Bank of America  United States  1.338400e+11   \n",
       "6                                  Alphabet  United States  2.828500e+11   \n",
       "7                                ExxonMobil  United States  3.931600e+11   \n",
       "8                                 Microsoft  United States  2.075900e+11   \n",
       "9                                     Apple  United States  3.851000e+11   \n",
       "\n",
       "         Profit        Assets  \n",
       "0  4.180000e+10  3.744300e+12  \n",
       "1  1.563600e+11  6.609900e+11  \n",
       "2  5.247000e+10  6.116820e+12  \n",
       "3  4.825000e+10  4.977480e+12  \n",
       "4  3.792000e+10  5.356860e+12  \n",
       "5  2.862000e+10  3.194660e+12  \n",
       "6  5.859000e+10  3.694900e+11  \n",
       "7  6.169000e+10  3.693700e+11  \n",
       "8  6.902000e+10  3.800900e+11  \n",
       "9  9.432000e+10  3.321600e+11  "
      ]
     },
     "execution_count": 82,
     "metadata": {},
     "output_type": "execute_result"
    }
   ],
   "source": [
    "data_company.head(10)"
   ]
  },
  {
   "cell_type": "code",
   "execution_count": 83,
   "id": "0b759de4",
   "metadata": {},
   "outputs": [
    {
     "name": "stdout",
     "output_type": "stream",
     "text": [
      "<class 'pandas.core.frame.DataFrame'>\n",
      "RangeIndex: 2000 entries, 0 to 1999\n",
      "Data columns (total 5 columns):\n",
      " #   Column        Non-Null Count  Dtype   \n",
      "---  ------        --------------  -----   \n",
      " 0   Company Name  2000 non-null   object  \n",
      " 1   Country       2000 non-null   category\n",
      " 2   Sales         2000 non-null   float64 \n",
      " 3   Profit        2000 non-null   float64 \n",
      " 4   Assets        2000 non-null   float64 \n",
      "dtypes: category(1), float64(3), object(1)\n",
      "memory usage: 67.1+ KB\n"
     ]
    }
   ],
   "source": [
    "data_company.info()"
   ]
  },
  {
   "cell_type": "code",
   "execution_count": 84,
   "id": "e70f45ac",
   "metadata": {},
   "outputs": [],
   "source": [
    "data_company.to_csv(\"The World’s Largest Companies.csv\", index=False)"
   ]
  },
  {
   "cell_type": "code",
   "execution_count": 85,
   "id": "40bdb33e",
   "metadata": {},
   "outputs": [
    {
     "data": {
      "text/html": [
       "<div>\n",
       "<style scoped>\n",
       "    .dataframe tbody tr th:only-of-type {\n",
       "        vertical-align: middle;\n",
       "    }\n",
       "\n",
       "    .dataframe tbody tr th {\n",
       "        vertical-align: top;\n",
       "    }\n",
       "\n",
       "    .dataframe thead th {\n",
       "        text-align: right;\n",
       "    }\n",
       "</style>\n",
       "<table border=\"1\" class=\"dataframe\">\n",
       "  <thead>\n",
       "    <tr style=\"text-align: right;\">\n",
       "      <th></th>\n",
       "      <th>Company Name</th>\n",
       "      <th>Country</th>\n",
       "      <th>Sales</th>\n",
       "      <th>Profit</th>\n",
       "      <th>Assets</th>\n",
       "    </tr>\n",
       "  </thead>\n",
       "  <tbody>\n",
       "    <tr>\n",
       "      <th>0</th>\n",
       "      <td>JPMorgan Chase</td>\n",
       "      <td>United States</td>\n",
       "      <td>1.799300e+11</td>\n",
       "      <td>4.180000e+10</td>\n",
       "      <td>3.744300e+12</td>\n",
       "    </tr>\n",
       "    <tr>\n",
       "      <th>1</th>\n",
       "      <td>Saudi Arabian Oil Company (Saudi Aramco)</td>\n",
       "      <td>Saudi Arabia</td>\n",
       "      <td>5.894700e+11</td>\n",
       "      <td>1.563600e+11</td>\n",
       "      <td>6.609900e+11</td>\n",
       "    </tr>\n",
       "    <tr>\n",
       "      <th>2</th>\n",
       "      <td>ICBC</td>\n",
       "      <td>China</td>\n",
       "      <td>2.167700e+11</td>\n",
       "      <td>5.247000e+10</td>\n",
       "      <td>6.116820e+12</td>\n",
       "    </tr>\n",
       "    <tr>\n",
       "      <th>3</th>\n",
       "      <td>China Construction Bank</td>\n",
       "      <td>China</td>\n",
       "      <td>2.030800e+11</td>\n",
       "      <td>4.825000e+10</td>\n",
       "      <td>4.977480e+12</td>\n",
       "    </tr>\n",
       "    <tr>\n",
       "      <th>4</th>\n",
       "      <td>Agricultural Bank of China</td>\n",
       "      <td>China</td>\n",
       "      <td>1.861400e+11</td>\n",
       "      <td>3.792000e+10</td>\n",
       "      <td>5.356860e+12</td>\n",
       "    </tr>\n",
       "  </tbody>\n",
       "</table>\n",
       "</div>"
      ],
      "text/plain": [
       "                               Company Name        Country         Sales  \\\n",
       "0                            JPMorgan Chase  United States  1.799300e+11   \n",
       "1  Saudi Arabian Oil Company (Saudi Aramco)   Saudi Arabia  5.894700e+11   \n",
       "2                                      ICBC          China  2.167700e+11   \n",
       "3                   China Construction Bank          China  2.030800e+11   \n",
       "4                Agricultural Bank of China          China  1.861400e+11   \n",
       "\n",
       "         Profit        Assets  \n",
       "0  4.180000e+10  3.744300e+12  \n",
       "1  1.563600e+11  6.609900e+11  \n",
       "2  5.247000e+10  6.116820e+12  \n",
       "3  4.825000e+10  4.977480e+12  \n",
       "4  3.792000e+10  5.356860e+12  "
      ]
     },
     "execution_count": 85,
     "metadata": {},
     "output_type": "execute_result"
    }
   ],
   "source": [
    "pd.read_csv(\"The World’s Largest Companies.csv\").head()"
   ]
  }
 ],
 "metadata": {
  "kernelspec": {
   "display_name": "Python 3 (ipykernel)",
   "language": "python",
   "name": "python3"
  },
  "language_info": {
   "codemirror_mode": {
    "name": "ipython",
    "version": 3
   },
   "file_extension": ".py",
   "mimetype": "text/x-python",
   "name": "python",
   "nbconvert_exporter": "python",
   "pygments_lexer": "ipython3",
   "version": "3.9.18"
  }
 },
 "nbformat": 4,
 "nbformat_minor": 5
}
